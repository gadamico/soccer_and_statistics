{
 "cells": [
  {
   "cell_type": "markdown",
   "id": "3fcbbaea",
   "metadata": {},
   "source": [
    "# Progressive Standings"
   ]
  },
  {
   "cell_type": "code",
   "execution_count": 1,
   "id": "71bd6f17",
   "metadata": {},
   "outputs": [],
   "source": [
    "from counting.soccer_functions import sequences"
   ]
  },
  {
   "cell_type": "markdown",
   "id": "e261a38f",
   "metadata": {},
   "source": [
    "The World Cup always has four-team groups in the initial stage. Another notebook in this repo explores the possibilities of final standings, but what about the possible standings after the first and second rounds of play?"
   ]
  },
  {
   "cell_type": "markdown",
   "id": "1a18e93d",
   "metadata": {},
   "source": [
    "## First Round"
   ]
  },
  {
   "cell_type": "markdown",
   "id": "2b29f586",
   "metadata": {},
   "source": [
    "Suppose without loss of generality that, of our four teams A, B, C, and D:\n",
    "\n",
    "- Team A plays B\n",
    "- Team B plays A\n",
    "- Team C plays D\n",
    "- Team D plays C\n",
    "\n",
    "We may have:\n",
    "\n",
    "- A beats B and C beats D\n",
    "- A beats B and C ties D\n",
    "- A beats B and C loses to D\n",
    "- A ties B and C beats D\n",
    "- A ties B and C ties D\n",
    "- A ties B and C loses to D\n",
    "- A loses to B and C beats D\n",
    "- A loses to B and C ties D\n",
    "- A loses to B and C loses to D"
   ]
  },
  {
   "cell_type": "markdown",
   "id": "99dd6950",
   "metadata": {},
   "source": [
    "Or, using our `sequences` function:"
   ]
  },
  {
   "cell_type": "code",
   "execution_count": 2,
   "id": "8642919f",
   "metadata": {},
   "outputs": [
    {
     "data": {
      "text/plain": [
       "['ac', 'at', 'ad', 'tc', 'tt', 'td', 'bc', 'bt', 'bd']"
      ]
     },
     "execution_count": 2,
     "metadata": {},
     "output_type": "execute_result"
    }
   ],
   "source": [
    "sequences(['atb', 'ctd'])"
   ]
  },
  {
   "cell_type": "markdown",
   "id": "db7ee102",
   "metadata": {},
   "source": [
    "In each of these cases the standings would be:\n",
    "\n",
    "- 3-3-0-0\n",
    "- 3-1-1-0\n",
    "- 3-3-0-0\n",
    "- 3-1-1-0\n",
    "- 1-1-1-1\n",
    "- 3-1-1-0\n",
    "- 3-3-0-0\n",
    "- 3-1-1-0\n",
    "- 3-3-0-0"
   ]
  },
  {
   "cell_type": "markdown",
   "id": "51d4502a",
   "metadata": {},
   "source": [
    "So there are only three possibilities: Either there are no ties at all, in which case there are two victories: 3-3-0-0; or there is exactly one tie, in which case there is exactly one victory: 3-1-1-0; or there are two ties, in which case there are no victories at all: 1-1-1-1."
   ]
  },
  {
   "cell_type": "markdown",
   "id": "9af9e4ad",
   "metadata": {},
   "source": [
    "## Second Round\n",
    "\n",
    "To think about possible standings after two rounds, let's suppose (again without loss of generality) that:\n",
    "\n",
    "- Team A plays B and then C\n",
    "- Team B plays A and then D\n",
    "- Team C plays D and then A\n",
    "- Team D plays C and then B"
   ]
  },
  {
   "cell_type": "markdown",
   "id": "c131a68b",
   "metadata": {},
   "source": [
    "Let's use our function to generate all the possibilities for two rounds of play:"
   ]
  },
  {
   "cell_type": "code",
   "execution_count": 3,
   "id": "3640d890",
   "metadata": {},
   "outputs": [
    {
     "data": {
      "text/plain": [
       "['acab',\n",
       " 'acat',\n",
       " 'acad',\n",
       " 'actb',\n",
       " 'actt',\n",
       " 'actd',\n",
       " 'accb',\n",
       " 'acct',\n",
       " 'accd',\n",
       " 'atab',\n",
       " 'atat',\n",
       " 'atad',\n",
       " 'attb',\n",
       " 'attt',\n",
       " 'attd',\n",
       " 'atcb',\n",
       " 'atct',\n",
       " 'atcd',\n",
       " 'adab',\n",
       " 'adat',\n",
       " 'adad',\n",
       " 'adtb',\n",
       " 'adtt',\n",
       " 'adtd',\n",
       " 'adcb',\n",
       " 'adct',\n",
       " 'adcd',\n",
       " 'tcab',\n",
       " 'tcat',\n",
       " 'tcad',\n",
       " 'tctb',\n",
       " 'tctt',\n",
       " 'tctd',\n",
       " 'tccb',\n",
       " 'tcct',\n",
       " 'tccd',\n",
       " 'ttab',\n",
       " 'ttat',\n",
       " 'ttad',\n",
       " 'tttb',\n",
       " 'tttt',\n",
       " 'tttd',\n",
       " 'ttcb',\n",
       " 'ttct',\n",
       " 'ttcd',\n",
       " 'tdab',\n",
       " 'tdat',\n",
       " 'tdad',\n",
       " 'tdtb',\n",
       " 'tdtt',\n",
       " 'tdtd',\n",
       " 'tdcb',\n",
       " 'tdct',\n",
       " 'tdcd',\n",
       " 'bcab',\n",
       " 'bcat',\n",
       " 'bcad',\n",
       " 'bctb',\n",
       " 'bctt',\n",
       " 'bctd',\n",
       " 'bccb',\n",
       " 'bcct',\n",
       " 'bccd',\n",
       " 'btab',\n",
       " 'btat',\n",
       " 'btad',\n",
       " 'bttb',\n",
       " 'bttt',\n",
       " 'bttd',\n",
       " 'btcb',\n",
       " 'btct',\n",
       " 'btcd',\n",
       " 'bdab',\n",
       " 'bdat',\n",
       " 'bdad',\n",
       " 'bdtb',\n",
       " 'bdtt',\n",
       " 'bdtd',\n",
       " 'bdcb',\n",
       " 'bdct',\n",
       " 'bdcd']"
      ]
     },
     "execution_count": 3,
     "metadata": {},
     "output_type": "execute_result"
    }
   ],
   "source": [
    "results = sequences([\n",
    "    'atb',\n",
    "    'ctd',\n",
    "    'atc',\n",
    "    'btd'\n",
    "])\n",
    "results"
   ]
  },
  {
   "cell_type": "markdown",
   "id": "6ab81683",
   "metadata": {},
   "source": [
    "What point totals do these results represent?\n",
    "\n",
    "Let's calculate them as follows:"
   ]
  },
  {
   "cell_type": "code",
   "execution_count": 4,
   "id": "d55bfa43",
   "metadata": {},
   "outputs": [],
   "source": [
    "standings = []\n",
    "for result in results:\n",
    "    a = 3*result.count('a')\n",
    "    b = 3*result.count('b')\n",
    "    c = 3*result.count('c')\n",
    "    d = 3*result.count('d')\n",
    "    if result[0] == 't':\n",
    "        a += 1\n",
    "        b += 1\n",
    "    if result[1] == 't':\n",
    "        c += 1\n",
    "        d += 1\n",
    "    if result[2] == 't':\n",
    "        a += 1\n",
    "        c += 1\n",
    "    if result[3] == 't':\n",
    "        b += 1\n",
    "        d += 1\n",
    "    standings.append(sorted([a, b, c, d], reverse=True))"
   ]
  },
  {
   "cell_type": "code",
   "execution_count": 5,
   "id": "d650e578",
   "metadata": {},
   "outputs": [],
   "source": [
    "# Note again our workaround of converting\n",
    "# standings to strings so that we can\n",
    "# store them in a set!\n",
    "\n",
    "distinct = set()\n",
    "for standing in standings:\n",
    "    distinct.add(str(standing))"
   ]
  },
  {
   "cell_type": "code",
   "execution_count": 6,
   "id": "190e1504",
   "metadata": {},
   "outputs": [
    {
     "data": {
      "text/plain": [
       "{'[2, 2, 2, 2]',\n",
       " '[3, 3, 3, 3]',\n",
       " '[4, 2, 2, 1]',\n",
       " '[4, 3, 2, 1]',\n",
       " '[4, 3, 3, 1]',\n",
       " '[4, 4, 1, 1]',\n",
       " '[4, 4, 2, 0]',\n",
       " '[4, 4, 3, 0]',\n",
       " '[6, 2, 1, 1]',\n",
       " '[6, 3, 1, 1]',\n",
       " '[6, 3, 3, 0]',\n",
       " '[6, 4, 1, 0]',\n",
       " '[6, 6, 0, 0]'}"
      ]
     },
     "execution_count": 6,
     "metadata": {},
     "output_type": "execute_result"
    }
   ],
   "source": [
    "distinct"
   ]
  },
  {
   "cell_type": "code",
   "execution_count": 7,
   "id": "ec89106d",
   "metadata": {},
   "outputs": [
    {
     "data": {
      "text/plain": [
       "13"
      ]
     },
     "execution_count": 7,
     "metadata": {},
     "output_type": "execute_result"
    }
   ],
   "source": [
    "len(distinct)"
   ]
  },
  {
   "cell_type": "markdown",
   "id": "d232e250",
   "metadata": {},
   "source": [
    "So that settles it! There are 13 possible standings of point totals (abstracting away from team identity) after two rounds of a four-team round-robin group."
   ]
  },
  {
   "cell_type": "code",
   "execution_count": null,
   "id": "4f85c1ae",
   "metadata": {},
   "outputs": [],
   "source": []
  }
 ],
 "metadata": {
  "kernelspec": {
   "display_name": "Python 3 (ipykernel)",
   "language": "python",
   "name": "python3"
  },
  "language_info": {
   "codemirror_mode": {
    "name": "ipython",
    "version": 3
   },
   "file_extension": ".py",
   "mimetype": "text/x-python",
   "name": "python",
   "nbconvert_exporter": "python",
   "pygments_lexer": "ipython3",
   "version": "3.9.12"
  }
 },
 "nbformat": 4,
 "nbformat_minor": 5
}
